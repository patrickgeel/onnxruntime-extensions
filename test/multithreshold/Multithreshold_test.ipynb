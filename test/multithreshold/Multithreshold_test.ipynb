{
 "cells": [
  {
   "cell_type": "code",
   "execution_count": 22,
   "id": "439c9cc0",
   "metadata": {},
   "outputs": [
    {
     "data": {
      "text/plain": [
       "[array([[[[-1.,  3.],\n",
       "          [ 3.,  3.]],\n",
       " \n",
       "         [[ 5.,  9.],\n",
       "          [ 5.,  5.]],\n",
       " \n",
       "         [[-1., -1.],\n",
       "          [13., -1.]]],\n",
       " \n",
       " \n",
       "        [[[-1., 13.],\n",
       "          [ 3.,  3.]],\n",
       " \n",
       "         [[ 1.,  1.],\n",
       "          [ 5.,  9.]],\n",
       " \n",
       "         [[-1., -1.],\n",
       "          [-1., -1.]]],\n",
       " \n",
       " \n",
       "        [[[-1.,  3.],\n",
       "          [13., 13.]],\n",
       " \n",
       "         [[ 1., 13.],\n",
       "          [ 9.,  9.]],\n",
       " \n",
       "         [[-1., -1.],\n",
       "          [-1., 13.]]],\n",
       " \n",
       " \n",
       "        [[[13.,  3.],\n",
       "          [ 3., -1.]],\n",
       " \n",
       "         [[ 1., 13.],\n",
       "          [13.,  1.]],\n",
       " \n",
       "         [[-1., -1.],\n",
       "          [-1., 13.]]],\n",
       " \n",
       " \n",
       "        [[[ 3.,  3.],\n",
       "          [ 3., 13.]],\n",
       " \n",
       "         [[ 9.,  9.],\n",
       "          [ 1.,  1.]],\n",
       " \n",
       "         [[13., -1.],\n",
       "          [-1., 13.]]],\n",
       " \n",
       " \n",
       "        [[[ 3., 13.],\n",
       "          [13., 13.]],\n",
       " \n",
       "         [[ 1., 13.],\n",
       "          [ 5.,  1.]],\n",
       " \n",
       "         [[-1., -1.],\n",
       "          [13., -1.]]]], dtype=float32)]"
      ]
     },
     "execution_count": 22,
     "metadata": {},
     "output_type": "execute_result"
    }
   ],
   "source": [
    "import onnxruntime as ort\n",
    "import numpy as np\n",
    "from onnxruntime_extensions import get_library_path\n",
    "from qonnx.core.modelwrapper import ModelWrapper\n",
    "\n",
    "mfile = \"test.onnx\"\n",
    "model = ModelWrapper(mfile)\n",
    "\n",
    "so = ort.SessionOptions()\n",
    "so.register_custom_ops_library(get_library_path())\n",
    "        \n",
    "model.save(mfile.replace('.onnx',\"_ort.onnx\"))\n",
    "\n",
    "sess = ort.InferenceSession(mfile, so)\n",
    "inps_names = [i.name for i in sess.get_inputs()]\n",
    "inps_shapes = [i.shape for i in sess.get_inputs()]\n",
    "\n",
    "inp_dict = {}\n",
    "\n",
    "for k,v in zip(inps_names,inps_shapes):\n",
    "    inp_dict[k] = np.random.random(v).astype(np.float32)\n",
    "    \n",
    "res = sess.run([],inp_dict)\n",
    "res"
   ]
  }
 ],
 "metadata": {
  "kernelspec": {
   "display_name": "Python 3 (ipykernel)",
   "language": "python",
   "name": "python3"
  },
  "language_info": {
   "codemirror_mode": {
    "name": "ipython",
    "version": 3
   },
   "file_extension": ".py",
   "mimetype": "text/x-python",
   "name": "python",
   "nbconvert_exporter": "python",
   "pygments_lexer": "ipython3",
   "version": "3.10.6"
  }
 },
 "nbformat": 4,
 "nbformat_minor": 5
}
